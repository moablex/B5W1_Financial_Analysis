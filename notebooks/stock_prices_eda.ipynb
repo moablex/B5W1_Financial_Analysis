{
 "cells": [
  {
   "cell_type": "markdown",
   "metadata": {},
   "source": [
    "### Stock Prices EDA and Technical Indicators\n",
    "\n",
    "This notebook performs exploratory data analysis (EDA) on stock price data and calculates technical indicators for each stock in the yfinance_data folder.\n",
    "\n",
    "#### Setup and Data Loading\n",
    "\n",
    "Load the necessary libraries and all stock price data files, converting dates to datetime and setting the index."
   ]
  },
  {
   "cell_type": "code",
   "execution_count": 1,
   "metadata": {},
   "outputs": [
    {
     "ename": "ModuleNotFoundError",
     "evalue": "No module named 'talib'",
     "output_type": "error",
     "traceback": [
      "\u001b[0;31m---------------------------------------------------------------------------\u001b[0m",
      "\u001b[0;31mModuleNotFoundError\u001b[0m                       Traceback (most recent call last)",
      "Cell \u001b[0;32mIn[1], line 5\u001b[0m\n\u001b[1;32m      3\u001b[0m \u001b[38;5;28;01mimport\u001b[39;00m\u001b[38;5;250m \u001b[39m\u001b[38;5;21;01mmatplotlib\u001b[39;00m\u001b[38;5;21;01m.\u001b[39;00m\u001b[38;5;21;01mpyplot\u001b[39;00m\u001b[38;5;250m \u001b[39m\u001b[38;5;28;01mas\u001b[39;00m\u001b[38;5;250m \u001b[39m\u001b[38;5;21;01mplt\u001b[39;00m\n\u001b[1;32m      4\u001b[0m \u001b[38;5;28;01mimport\u001b[39;00m\u001b[38;5;250m \u001b[39m\u001b[38;5;21;01mseaborn\u001b[39;00m\u001b[38;5;250m \u001b[39m\u001b[38;5;28;01mas\u001b[39;00m\u001b[38;5;250m \u001b[39m\u001b[38;5;21;01msns\u001b[39;00m\n\u001b[0;32m----> 5\u001b[0m \u001b[38;5;28;01mimport\u001b[39;00m\u001b[38;5;250m \u001b[39m\u001b[38;5;21;01mtalib\u001b[39;00m\n\u001b[1;32m      6\u001b[0m \u001b[38;5;28;01mimport\u001b[39;00m\u001b[38;5;250m \u001b[39m\u001b[38;5;21;01mos\u001b[39;00m\n\u001b[1;32m      8\u001b[0m \u001b[38;5;66;03m# Function to load stock data\u001b[39;00m\n",
      "\u001b[0;31mModuleNotFoundError\u001b[0m: No module named 'talib'"
     ]
    }
   ],
   "source": [
    "# Import libraries\n",
    "import pandas as pd\n",
    "import matplotlib.pyplot as plt\n",
    "import seaborn as sns\n",
    "import talib\n",
    "import os\n",
    "\n",
    "# Function to load stock data\n",
    "def load_stock_data(file_path):\n",
    "    \"\"\"Load and preprocess stock price data.\"\"\"\n",
    "    df = pd.read_csv(file_path)\n",
    "    df['Date'] = pd.to_datetime(df['Date'])\n",
    "    df.set_index('Date', inplace=True)\n",
    "    return df\n",
    "\n",
    "# Load all stock data\n",
    "stock_files = os.listdir('../data/yfinance_data/')\n",
    "stock_dfs = {}\n",
    "for file in stock_files:\n",
    "    if file.endswith('.csv'):\n",
    "        ticker = file.split('_')[0]\n",
    "        stock_dfs[ticker] = load_stock_data(f'../data/yfinance_data/{file}')"
   ]
  },
  {
   "cell_type": "markdown",
   "metadata": {},
   "source": [
    "### EDA and Technical Indicators\n",
    "\n",
    "Perform EDA and calculate technical indicators for each stock, saving visualizations and processed data."
   ]
  },
  {
   "cell_type": "code",
   "execution_count": null,
   "metadata": {},
   "outputs": [],
   "source": [
    "# Process each stock\n",
    "for ticker, df in stock_dfs.items():\n",
    "    print(f'\\n=== EDA for {ticker} ===')\n",
    "    print('Dataset Info:')\n",
    "    print(df.info())\n",
    "\n",
    "    # Check for missing values\n",
    "    print('\\nMissing Values:')\n",
    "    print(df.isnull().sum())\n",
    "\n",
    "    # Descriptive statistics\n",
    "    print('\\nDescriptive Statistics:')\n",
    "    print(df[['Open', 'High', 'Low', 'Close', 'Volume']].describe())\n",
    "\n",
    "    # Plot closing price\n",
    "    plt.figure(figsize=(12, 6))\n",
    "    df['Close'].plot(color='blue')\n",
    "    plt.title(f'{ticker} Closing Price Over Time')\n",
    "    plt.xlabel('Date')\n",
    "    plt.ylabel('Price (USD)')\n",
    "    plt.grid(True)\n",
    "    plt.savefig(f'../data/processed/{ticker}_closing_price.png')\n",
    "    plt.show()\n",
    "\n",
    "    # Plot volume distribution\n",
    "    plt.figure(figsize=(10, 6))\n",
    "    sns.histplot(df['Volume'], bins=30, kde=True)\n",
    "    plt.title(f'{ticker} Volume Distribution')\n",
    "    plt.xlabel('Volume')\n",
    "    plt.ylabel('Frequency')\n",
    "    plt.grid(True)\n",
    "    plt.savefig(f'../data/processed/{ticker}_volume_distribution.png')\n",
    "    plt.show()\n",
    "\n",
    "    # Calculate technical indicators\n",
    "    df['SMA_20'] = talib.SMA(df['Close'], timeperiod=20)\n",
    "    df['RSI'] = talib.RSI(df['Close'], timeperiod=14)\n",
    "    df['MACD'], df['MACD_Signal'], df['MACD_Hist'] = talib.MACD(\n",
    "        df['Close'], fastperiod=12, slowperiod=26, signalperiod=9\n",
    "    )\n",
    "\n",
    "    # Plot technical indicators\n",
    "    plt.figure(figsize=(12, 10))\n",
    "    \n",
    "    # Closing price and SMA\n",
    "    plt.subplot(3, 1, 1)\n",
    "    df[['Close', 'SMA_20']].plot(ax=plt.gca())\n",
    "    plt.title(f'{ticker} Closing Price and 20-Day SMA')\n",
    "    plt.ylabel('Price (USD)')\n",
    "    plt.grid(True)\n",
    "\n",
    "    # RSI\n",
    "    plt.subplot(3, 1, 2)\n",
    "    df['RSI'].plot(ax=plt.gca(), color='purple')\n",
    "    plt.title(f'{ticker} RSI')\n",
    "    plt.ylabel('RSI')\n",
    "    plt.axhline(70, color='red', linestyle='--', alpha=0.5)\n",
    "    plt.axhline(30, color='green', linestyle='--', alpha=0.5)\n",
    "    plt.grid(True)\n",
    "\n",
    "    # MACD\n",
    "    plt.subplot(3, 1, 3)\n",
    "    df[['MACD', 'MACD_Signal']].plot(ax=plt.gca())\n",
    "    df['MACD_Hist'].plot(kind='bar', ax=plt.gca(), alpha=0.2)\n",
    "    plt.title(f'{ticker} MACD')\n",
    "    plt.ylabel('MACD')\n",
    "    plt.grid(True)\n",
    "\n",
    "    plt.tight_layout()\n",
    "    plt.savefig(f'../data/processed/{ticker}_technical_indicators.png')\n",
    "    plt.show()\n",
    "\n",
    "    # Save processed data\n",
    "    df.to_csv(f'../data/processed/{ticker}_processed.csv')\n",
    "    print(f'Saved processed data for {ticker}')"
   ]
  }
 ],
 "metadata": {
  "kernelspec": {
   "display_name": ".venv",
   "language": "python",
   "name": "python3"
  },
  "language_info": {
   "codemirror_mode": {
    "name": "ipython",
    "version": 3
   },
   "file_extension": ".py",
   "mimetype": "text/x-python",
   "name": "python",
   "nbconvert_exporter": "python",
   "pygments_lexer": "ipython3",
   "version": "3.10.13"
  }
 },
 "nbformat": 4,
 "nbformat_minor": 2
}
